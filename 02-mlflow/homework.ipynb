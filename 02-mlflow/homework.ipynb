{
 "cells": [
  {
   "cell_type": "code",
   "execution_count": 2,
   "id": "f5ab48a8-3329-43b7-9401-de53658ae450",
   "metadata": {},
   "outputs": [],
   "source": [
    "import pandas as pd"
   ]
  },
  {
   "cell_type": "code",
   "execution_count": 3,
   "id": "97b47015-2558-4813-9912-982f7b700694",
   "metadata": {},
   "outputs": [
    {
     "data": {
      "text/plain": [
       "'2.2.3'"
      ]
     },
     "execution_count": 3,
     "metadata": {},
     "output_type": "execute_result"
    }
   ],
   "source": [
    "pd.__version__"
   ]
  },
  {
   "cell_type": "code",
   "execution_count": 4,
   "id": "1516555c-5eb0-4fda-b692-f16f46543ba7",
   "metadata": {},
   "outputs": [],
   "source": [
    "df = pd.read_parquet(\"data/yellow_tripdata_2025-01.parquet\")"
   ]
  },
  {
   "cell_type": "code",
   "execution_count": 5,
   "id": "de595514-fb99-4955-bfc7-ca8a2af77a25",
   "metadata": {},
   "outputs": [
    {
     "data": {
      "text/html": [
       "<div>\n",
       "<style scoped>\n",
       "    .dataframe tbody tr th:only-of-type {\n",
       "        vertical-align: middle;\n",
       "    }\n",
       "\n",
       "    .dataframe tbody tr th {\n",
       "        vertical-align: top;\n",
       "    }\n",
       "\n",
       "    .dataframe thead th {\n",
       "        text-align: right;\n",
       "    }\n",
       "</style>\n",
       "<table border=\"1\" class=\"dataframe\">\n",
       "  <thead>\n",
       "    <tr style=\"text-align: right;\">\n",
       "      <th></th>\n",
       "      <th>VendorID</th>\n",
       "      <th>tpep_pickup_datetime</th>\n",
       "      <th>tpep_dropoff_datetime</th>\n",
       "      <th>passenger_count</th>\n",
       "      <th>trip_distance</th>\n",
       "      <th>RatecodeID</th>\n",
       "      <th>store_and_fwd_flag</th>\n",
       "      <th>PULocationID</th>\n",
       "      <th>DOLocationID</th>\n",
       "      <th>payment_type</th>\n",
       "      <th>fare_amount</th>\n",
       "      <th>extra</th>\n",
       "      <th>mta_tax</th>\n",
       "      <th>tip_amount</th>\n",
       "      <th>tolls_amount</th>\n",
       "      <th>improvement_surcharge</th>\n",
       "      <th>total_amount</th>\n",
       "      <th>congestion_surcharge</th>\n",
       "      <th>Airport_fee</th>\n",
       "      <th>cbd_congestion_fee</th>\n",
       "    </tr>\n",
       "  </thead>\n",
       "  <tbody>\n",
       "    <tr>\n",
       "      <th>0</th>\n",
       "      <td>1</td>\n",
       "      <td>2025-01-01 00:18:38</td>\n",
       "      <td>2025-01-01 00:26:59</td>\n",
       "      <td>1.0</td>\n",
       "      <td>1.60</td>\n",
       "      <td>1.0</td>\n",
       "      <td>N</td>\n",
       "      <td>229</td>\n",
       "      <td>237</td>\n",
       "      <td>1</td>\n",
       "      <td>10.00</td>\n",
       "      <td>3.5</td>\n",
       "      <td>0.5</td>\n",
       "      <td>3.00</td>\n",
       "      <td>0.0</td>\n",
       "      <td>1.0</td>\n",
       "      <td>18.00</td>\n",
       "      <td>2.5</td>\n",
       "      <td>0.0</td>\n",
       "      <td>0.00</td>\n",
       "    </tr>\n",
       "    <tr>\n",
       "      <th>1</th>\n",
       "      <td>1</td>\n",
       "      <td>2025-01-01 00:32:40</td>\n",
       "      <td>2025-01-01 00:35:13</td>\n",
       "      <td>1.0</td>\n",
       "      <td>0.50</td>\n",
       "      <td>1.0</td>\n",
       "      <td>N</td>\n",
       "      <td>236</td>\n",
       "      <td>237</td>\n",
       "      <td>1</td>\n",
       "      <td>5.10</td>\n",
       "      <td>3.5</td>\n",
       "      <td>0.5</td>\n",
       "      <td>2.02</td>\n",
       "      <td>0.0</td>\n",
       "      <td>1.0</td>\n",
       "      <td>12.12</td>\n",
       "      <td>2.5</td>\n",
       "      <td>0.0</td>\n",
       "      <td>0.00</td>\n",
       "    </tr>\n",
       "    <tr>\n",
       "      <th>2</th>\n",
       "      <td>1</td>\n",
       "      <td>2025-01-01 00:44:04</td>\n",
       "      <td>2025-01-01 00:46:01</td>\n",
       "      <td>1.0</td>\n",
       "      <td>0.60</td>\n",
       "      <td>1.0</td>\n",
       "      <td>N</td>\n",
       "      <td>141</td>\n",
       "      <td>141</td>\n",
       "      <td>1</td>\n",
       "      <td>5.10</td>\n",
       "      <td>3.5</td>\n",
       "      <td>0.5</td>\n",
       "      <td>2.00</td>\n",
       "      <td>0.0</td>\n",
       "      <td>1.0</td>\n",
       "      <td>12.10</td>\n",
       "      <td>2.5</td>\n",
       "      <td>0.0</td>\n",
       "      <td>0.00</td>\n",
       "    </tr>\n",
       "    <tr>\n",
       "      <th>3</th>\n",
       "      <td>2</td>\n",
       "      <td>2025-01-01 00:14:27</td>\n",
       "      <td>2025-01-01 00:20:01</td>\n",
       "      <td>3.0</td>\n",
       "      <td>0.52</td>\n",
       "      <td>1.0</td>\n",
       "      <td>N</td>\n",
       "      <td>244</td>\n",
       "      <td>244</td>\n",
       "      <td>2</td>\n",
       "      <td>7.20</td>\n",
       "      <td>1.0</td>\n",
       "      <td>0.5</td>\n",
       "      <td>0.00</td>\n",
       "      <td>0.0</td>\n",
       "      <td>1.0</td>\n",
       "      <td>9.70</td>\n",
       "      <td>0.0</td>\n",
       "      <td>0.0</td>\n",
       "      <td>0.00</td>\n",
       "    </tr>\n",
       "    <tr>\n",
       "      <th>4</th>\n",
       "      <td>2</td>\n",
       "      <td>2025-01-01 00:21:34</td>\n",
       "      <td>2025-01-01 00:25:06</td>\n",
       "      <td>3.0</td>\n",
       "      <td>0.66</td>\n",
       "      <td>1.0</td>\n",
       "      <td>N</td>\n",
       "      <td>244</td>\n",
       "      <td>116</td>\n",
       "      <td>2</td>\n",
       "      <td>5.80</td>\n",
       "      <td>1.0</td>\n",
       "      <td>0.5</td>\n",
       "      <td>0.00</td>\n",
       "      <td>0.0</td>\n",
       "      <td>1.0</td>\n",
       "      <td>8.30</td>\n",
       "      <td>0.0</td>\n",
       "      <td>0.0</td>\n",
       "      <td>0.00</td>\n",
       "    </tr>\n",
       "    <tr>\n",
       "      <th>...</th>\n",
       "      <td>...</td>\n",
       "      <td>...</td>\n",
       "      <td>...</td>\n",
       "      <td>...</td>\n",
       "      <td>...</td>\n",
       "      <td>...</td>\n",
       "      <td>...</td>\n",
       "      <td>...</td>\n",
       "      <td>...</td>\n",
       "      <td>...</td>\n",
       "      <td>...</td>\n",
       "      <td>...</td>\n",
       "      <td>...</td>\n",
       "      <td>...</td>\n",
       "      <td>...</td>\n",
       "      <td>...</td>\n",
       "      <td>...</td>\n",
       "      <td>...</td>\n",
       "      <td>...</td>\n",
       "      <td>...</td>\n",
       "    </tr>\n",
       "    <tr>\n",
       "      <th>3475221</th>\n",
       "      <td>2</td>\n",
       "      <td>2025-01-31 23:01:48</td>\n",
       "      <td>2025-01-31 23:16:29</td>\n",
       "      <td>NaN</td>\n",
       "      <td>3.35</td>\n",
       "      <td>NaN</td>\n",
       "      <td>None</td>\n",
       "      <td>79</td>\n",
       "      <td>237</td>\n",
       "      <td>0</td>\n",
       "      <td>15.85</td>\n",
       "      <td>0.0</td>\n",
       "      <td>0.5</td>\n",
       "      <td>0.00</td>\n",
       "      <td>0.0</td>\n",
       "      <td>1.0</td>\n",
       "      <td>20.60</td>\n",
       "      <td>NaN</td>\n",
       "      <td>NaN</td>\n",
       "      <td>0.75</td>\n",
       "    </tr>\n",
       "    <tr>\n",
       "      <th>3475222</th>\n",
       "      <td>2</td>\n",
       "      <td>2025-01-31 23:50:29</td>\n",
       "      <td>2025-02-01 00:17:27</td>\n",
       "      <td>NaN</td>\n",
       "      <td>8.73</td>\n",
       "      <td>NaN</td>\n",
       "      <td>None</td>\n",
       "      <td>161</td>\n",
       "      <td>116</td>\n",
       "      <td>0</td>\n",
       "      <td>28.14</td>\n",
       "      <td>0.0</td>\n",
       "      <td>0.5</td>\n",
       "      <td>0.00</td>\n",
       "      <td>0.0</td>\n",
       "      <td>1.0</td>\n",
       "      <td>32.89</td>\n",
       "      <td>NaN</td>\n",
       "      <td>NaN</td>\n",
       "      <td>0.75</td>\n",
       "    </tr>\n",
       "    <tr>\n",
       "      <th>3475223</th>\n",
       "      <td>2</td>\n",
       "      <td>2025-01-31 23:26:59</td>\n",
       "      <td>2025-01-31 23:43:01</td>\n",
       "      <td>NaN</td>\n",
       "      <td>2.64</td>\n",
       "      <td>NaN</td>\n",
       "      <td>None</td>\n",
       "      <td>144</td>\n",
       "      <td>246</td>\n",
       "      <td>0</td>\n",
       "      <td>14.91</td>\n",
       "      <td>0.0</td>\n",
       "      <td>0.5</td>\n",
       "      <td>0.00</td>\n",
       "      <td>0.0</td>\n",
       "      <td>1.0</td>\n",
       "      <td>19.66</td>\n",
       "      <td>NaN</td>\n",
       "      <td>NaN</td>\n",
       "      <td>0.75</td>\n",
       "    </tr>\n",
       "    <tr>\n",
       "      <th>3475224</th>\n",
       "      <td>2</td>\n",
       "      <td>2025-01-31 23:14:34</td>\n",
       "      <td>2025-01-31 23:34:52</td>\n",
       "      <td>NaN</td>\n",
       "      <td>3.16</td>\n",
       "      <td>NaN</td>\n",
       "      <td>None</td>\n",
       "      <td>142</td>\n",
       "      <td>107</td>\n",
       "      <td>0</td>\n",
       "      <td>17.55</td>\n",
       "      <td>0.0</td>\n",
       "      <td>0.5</td>\n",
       "      <td>0.00</td>\n",
       "      <td>0.0</td>\n",
       "      <td>1.0</td>\n",
       "      <td>22.30</td>\n",
       "      <td>NaN</td>\n",
       "      <td>NaN</td>\n",
       "      <td>0.75</td>\n",
       "    </tr>\n",
       "    <tr>\n",
       "      <th>3475225</th>\n",
       "      <td>2</td>\n",
       "      <td>2025-01-31 23:56:42</td>\n",
       "      <td>2025-02-01 00:07:27</td>\n",
       "      <td>NaN</td>\n",
       "      <td>2.29</td>\n",
       "      <td>NaN</td>\n",
       "      <td>None</td>\n",
       "      <td>237</td>\n",
       "      <td>238</td>\n",
       "      <td>0</td>\n",
       "      <td>12.09</td>\n",
       "      <td>0.0</td>\n",
       "      <td>0.5</td>\n",
       "      <td>0.00</td>\n",
       "      <td>0.0</td>\n",
       "      <td>1.0</td>\n",
       "      <td>16.09</td>\n",
       "      <td>NaN</td>\n",
       "      <td>NaN</td>\n",
       "      <td>0.00</td>\n",
       "    </tr>\n",
       "  </tbody>\n",
       "</table>\n",
       "<p>3475226 rows × 20 columns</p>\n",
       "</div>"
      ],
      "text/plain": [
       "         VendorID tpep_pickup_datetime tpep_dropoff_datetime  passenger_count  \\\n",
       "0               1  2025-01-01 00:18:38   2025-01-01 00:26:59              1.0   \n",
       "1               1  2025-01-01 00:32:40   2025-01-01 00:35:13              1.0   \n",
       "2               1  2025-01-01 00:44:04   2025-01-01 00:46:01              1.0   \n",
       "3               2  2025-01-01 00:14:27   2025-01-01 00:20:01              3.0   \n",
       "4               2  2025-01-01 00:21:34   2025-01-01 00:25:06              3.0   \n",
       "...           ...                  ...                   ...              ...   \n",
       "3475221         2  2025-01-31 23:01:48   2025-01-31 23:16:29              NaN   \n",
       "3475222         2  2025-01-31 23:50:29   2025-02-01 00:17:27              NaN   \n",
       "3475223         2  2025-01-31 23:26:59   2025-01-31 23:43:01              NaN   \n",
       "3475224         2  2025-01-31 23:14:34   2025-01-31 23:34:52              NaN   \n",
       "3475225         2  2025-01-31 23:56:42   2025-02-01 00:07:27              NaN   \n",
       "\n",
       "         trip_distance  RatecodeID store_and_fwd_flag  PULocationID  \\\n",
       "0                 1.60         1.0                  N           229   \n",
       "1                 0.50         1.0                  N           236   \n",
       "2                 0.60         1.0                  N           141   \n",
       "3                 0.52         1.0                  N           244   \n",
       "4                 0.66         1.0                  N           244   \n",
       "...                ...         ...                ...           ...   \n",
       "3475221           3.35         NaN               None            79   \n",
       "3475222           8.73         NaN               None           161   \n",
       "3475223           2.64         NaN               None           144   \n",
       "3475224           3.16         NaN               None           142   \n",
       "3475225           2.29         NaN               None           237   \n",
       "\n",
       "         DOLocationID  payment_type  fare_amount  extra  mta_tax  tip_amount  \\\n",
       "0                 237             1        10.00    3.5      0.5        3.00   \n",
       "1                 237             1         5.10    3.5      0.5        2.02   \n",
       "2                 141             1         5.10    3.5      0.5        2.00   \n",
       "3                 244             2         7.20    1.0      0.5        0.00   \n",
       "4                 116             2         5.80    1.0      0.5        0.00   \n",
       "...               ...           ...          ...    ...      ...         ...   \n",
       "3475221           237             0        15.85    0.0      0.5        0.00   \n",
       "3475222           116             0        28.14    0.0      0.5        0.00   \n",
       "3475223           246             0        14.91    0.0      0.5        0.00   \n",
       "3475224           107             0        17.55    0.0      0.5        0.00   \n",
       "3475225           238             0        12.09    0.0      0.5        0.00   \n",
       "\n",
       "         tolls_amount  improvement_surcharge  total_amount  \\\n",
       "0                 0.0                    1.0         18.00   \n",
       "1                 0.0                    1.0         12.12   \n",
       "2                 0.0                    1.0         12.10   \n",
       "3                 0.0                    1.0          9.70   \n",
       "4                 0.0                    1.0          8.30   \n",
       "...               ...                    ...           ...   \n",
       "3475221           0.0                    1.0         20.60   \n",
       "3475222           0.0                    1.0         32.89   \n",
       "3475223           0.0                    1.0         19.66   \n",
       "3475224           0.0                    1.0         22.30   \n",
       "3475225           0.0                    1.0         16.09   \n",
       "\n",
       "         congestion_surcharge  Airport_fee  cbd_congestion_fee  \n",
       "0                         2.5          0.0                0.00  \n",
       "1                         2.5          0.0                0.00  \n",
       "2                         2.5          0.0                0.00  \n",
       "3                         0.0          0.0                0.00  \n",
       "4                         0.0          0.0                0.00  \n",
       "...                       ...          ...                 ...  \n",
       "3475221                   NaN          NaN                0.75  \n",
       "3475222                   NaN          NaN                0.75  \n",
       "3475223                   NaN          NaN                0.75  \n",
       "3475224                   NaN          NaN                0.75  \n",
       "3475225                   NaN          NaN                0.00  \n",
       "\n",
       "[3475226 rows x 20 columns]"
      ]
     },
     "execution_count": 5,
     "metadata": {},
     "output_type": "execute_result"
    }
   ],
   "source": [
    "df"
   ]
  },
  {
   "cell_type": "code",
   "execution_count": 6,
   "id": "62ea8f75",
   "metadata": {},
   "outputs": [
    {
     "data": {
      "text/plain": [
       "20"
      ]
     },
     "execution_count": 6,
     "metadata": {},
     "output_type": "execute_result"
    }
   ],
   "source": [
    "len(df.columns)"
   ]
  },
  {
   "cell_type": "code",
   "execution_count": 7,
   "id": "49a7f625-5f2e-4c7c-96b5-47dbdd4ef6b3",
   "metadata": {},
   "outputs": [
    {
     "name": "stdout",
     "output_type": "stream",
     "text": [
      "Requirement already satisfied: mlflow in /home/codespace/anaconda3/envs/mlops/lib/python3.13/site-packages (2.22.0)\n",
      "Requirement already satisfied: mlflow-skinny==2.22.0 in /home/codespace/anaconda3/envs/mlops/lib/python3.13/site-packages (from mlflow) (2.22.0)\n",
      "Requirement already satisfied: Flask<4 in /home/codespace/anaconda3/envs/mlops/lib/python3.13/site-packages (from mlflow) (3.1.1)\n",
      "Requirement already satisfied: Jinja2<4,>=2.11 in /home/codespace/anaconda3/envs/mlops/lib/python3.13/site-packages (from mlflow) (3.1.6)\n",
      "Requirement already satisfied: alembic!=1.10.0,<2 in /home/codespace/anaconda3/envs/mlops/lib/python3.13/site-packages (from mlflow) (1.16.1)\n",
      "Requirement already satisfied: docker<8,>=4.0.0 in /home/codespace/anaconda3/envs/mlops/lib/python3.13/site-packages (from mlflow) (7.1.0)\n",
      "Requirement already satisfied: graphene<4 in /home/codespace/anaconda3/envs/mlops/lib/python3.13/site-packages (from mlflow) (3.4.3)\n",
      "Requirement already satisfied: gunicorn<24 in /home/codespace/anaconda3/envs/mlops/lib/python3.13/site-packages (from mlflow) (23.0.0)\n",
      "Requirement already satisfied: markdown<4,>=3.3 in /home/codespace/anaconda3/envs/mlops/lib/python3.13/site-packages (from mlflow) (3.8)\n",
      "Requirement already satisfied: matplotlib<4 in /home/codespace/anaconda3/envs/mlops/lib/python3.13/site-packages (from mlflow) (3.10.3)\n",
      "Requirement already satisfied: numpy<3 in /home/codespace/anaconda3/envs/mlops/lib/python3.13/site-packages (from mlflow) (2.2.6)\n",
      "Requirement already satisfied: pandas<3 in /home/codespace/anaconda3/envs/mlops/lib/python3.13/site-packages (from mlflow) (2.2.3)\n",
      "Requirement already satisfied: pyarrow<20,>=4.0.0 in /home/codespace/anaconda3/envs/mlops/lib/python3.13/site-packages (from mlflow) (19.0.1)\n",
      "Requirement already satisfied: scikit-learn<2 in /home/codespace/anaconda3/envs/mlops/lib/python3.13/site-packages (from mlflow) (1.6.1)\n",
      "Requirement already satisfied: scipy<2 in /home/codespace/anaconda3/envs/mlops/lib/python3.13/site-packages (from mlflow) (1.15.3)\n",
      "Requirement already satisfied: sqlalchemy<3,>=1.4.0 in /home/codespace/anaconda3/envs/mlops/lib/python3.13/site-packages (from mlflow) (2.0.41)\n",
      "Requirement already satisfied: cachetools<6,>=5.0.0 in /home/codespace/anaconda3/envs/mlops/lib/python3.13/site-packages (from mlflow-skinny==2.22.0->mlflow) (5.5.2)\n",
      "Requirement already satisfied: click<9,>=7.0 in /home/codespace/anaconda3/envs/mlops/lib/python3.13/site-packages (from mlflow-skinny==2.22.0->mlflow) (8.2.1)\n",
      "Requirement already satisfied: cloudpickle<4 in /home/codespace/anaconda3/envs/mlops/lib/python3.13/site-packages (from mlflow-skinny==2.22.0->mlflow) (3.1.1)\n",
      "Requirement already satisfied: databricks-sdk<1,>=0.20.0 in /home/codespace/anaconda3/envs/mlops/lib/python3.13/site-packages (from mlflow-skinny==2.22.0->mlflow) (0.53.0)\n",
      "Requirement already satisfied: fastapi<1 in /home/codespace/anaconda3/envs/mlops/lib/python3.13/site-packages (from mlflow-skinny==2.22.0->mlflow) (0.115.12)\n",
      "Requirement already satisfied: gitpython<4,>=3.1.9 in /home/codespace/anaconda3/envs/mlops/lib/python3.13/site-packages (from mlflow-skinny==2.22.0->mlflow) (3.1.44)\n",
      "Requirement already satisfied: importlib_metadata!=4.7.0,<9,>=3.7.0 in /home/codespace/anaconda3/envs/mlops/lib/python3.13/site-packages (from mlflow-skinny==2.22.0->mlflow) (8.6.1)\n",
      "Requirement already satisfied: opentelemetry-api<3,>=1.9.0 in /home/codespace/anaconda3/envs/mlops/lib/python3.13/site-packages (from mlflow-skinny==2.22.0->mlflow) (1.33.1)\n",
      "Requirement already satisfied: opentelemetry-sdk<3,>=1.9.0 in /home/codespace/anaconda3/envs/mlops/lib/python3.13/site-packages (from mlflow-skinny==2.22.0->mlflow) (1.33.1)\n",
      "Requirement already satisfied: packaging<25 in /home/codespace/anaconda3/envs/mlops/lib/python3.13/site-packages (from mlflow-skinny==2.22.0->mlflow) (24.2)\n",
      "Requirement already satisfied: protobuf<7,>=3.12.0 in /home/codespace/anaconda3/envs/mlops/lib/python3.13/site-packages (from mlflow-skinny==2.22.0->mlflow) (6.31.0)\n",
      "Requirement already satisfied: pydantic<3,>=1.10.8 in /home/codespace/anaconda3/envs/mlops/lib/python3.13/site-packages (from mlflow-skinny==2.22.0->mlflow) (2.11.4)\n",
      "Requirement already satisfied: pyyaml<7,>=5.1 in /home/codespace/anaconda3/envs/mlops/lib/python3.13/site-packages (from mlflow-skinny==2.22.0->mlflow) (6.0.2)\n",
      "Requirement already satisfied: requests<3,>=2.17.3 in /home/codespace/anaconda3/envs/mlops/lib/python3.13/site-packages (from mlflow-skinny==2.22.0->mlflow) (2.32.3)\n",
      "Requirement already satisfied: sqlparse<1,>=0.4.0 in /home/codespace/anaconda3/envs/mlops/lib/python3.13/site-packages (from mlflow-skinny==2.22.0->mlflow) (0.5.3)\n",
      "Requirement already satisfied: typing-extensions<5,>=4.0.0 in /home/codespace/anaconda3/envs/mlops/lib/python3.13/site-packages (from mlflow-skinny==2.22.0->mlflow) (4.13.2)\n",
      "Requirement already satisfied: uvicorn<1 in /home/codespace/anaconda3/envs/mlops/lib/python3.13/site-packages (from mlflow-skinny==2.22.0->mlflow) (0.34.2)\n",
      "Requirement already satisfied: Mako in /home/codespace/anaconda3/envs/mlops/lib/python3.13/site-packages (from alembic!=1.10.0,<2->mlflow) (1.3.10)\n",
      "Requirement already satisfied: google-auth~=2.0 in /home/codespace/anaconda3/envs/mlops/lib/python3.13/site-packages (from databricks-sdk<1,>=0.20.0->mlflow-skinny==2.22.0->mlflow) (2.40.2)\n",
      "Requirement already satisfied: urllib3>=1.26.0 in /home/codespace/anaconda3/envs/mlops/lib/python3.13/site-packages (from docker<8,>=4.0.0->mlflow) (2.4.0)\n",
      "Requirement already satisfied: starlette<0.47.0,>=0.40.0 in /home/codespace/anaconda3/envs/mlops/lib/python3.13/site-packages (from fastapi<1->mlflow-skinny==2.22.0->mlflow) (0.46.2)\n",
      "Requirement already satisfied: blinker>=1.9.0 in /home/codespace/anaconda3/envs/mlops/lib/python3.13/site-packages (from Flask<4->mlflow) (1.9.0)\n",
      "Requirement already satisfied: itsdangerous>=2.2.0 in /home/codespace/anaconda3/envs/mlops/lib/python3.13/site-packages (from Flask<4->mlflow) (2.2.0)\n",
      "Requirement already satisfied: markupsafe>=2.1.1 in /home/codespace/anaconda3/envs/mlops/lib/python3.13/site-packages (from Flask<4->mlflow) (3.0.2)\n",
      "Requirement already satisfied: werkzeug>=3.1.0 in /home/codespace/anaconda3/envs/mlops/lib/python3.13/site-packages (from Flask<4->mlflow) (3.1.3)\n",
      "Requirement already satisfied: gitdb<5,>=4.0.1 in /home/codespace/anaconda3/envs/mlops/lib/python3.13/site-packages (from gitpython<4,>=3.1.9->mlflow-skinny==2.22.0->mlflow) (4.0.12)\n",
      "Requirement already satisfied: smmap<6,>=3.0.1 in /home/codespace/anaconda3/envs/mlops/lib/python3.13/site-packages (from gitdb<5,>=4.0.1->gitpython<4,>=3.1.9->mlflow-skinny==2.22.0->mlflow) (5.0.2)\n",
      "Requirement already satisfied: pyasn1-modules>=0.2.1 in /home/codespace/anaconda3/envs/mlops/lib/python3.13/site-packages (from google-auth~=2.0->databricks-sdk<1,>=0.20.0->mlflow-skinny==2.22.0->mlflow) (0.4.2)\n",
      "Requirement already satisfied: rsa<5,>=3.1.4 in /home/codespace/anaconda3/envs/mlops/lib/python3.13/site-packages (from google-auth~=2.0->databricks-sdk<1,>=0.20.0->mlflow-skinny==2.22.0->mlflow) (4.9.1)\n",
      "Requirement already satisfied: graphql-core<3.3,>=3.1 in /home/codespace/anaconda3/envs/mlops/lib/python3.13/site-packages (from graphene<4->mlflow) (3.2.6)\n",
      "Requirement already satisfied: graphql-relay<3.3,>=3.1 in /home/codespace/anaconda3/envs/mlops/lib/python3.13/site-packages (from graphene<4->mlflow) (3.2.0)\n",
      "Requirement already satisfied: python-dateutil<3,>=2.7.0 in /home/codespace/anaconda3/envs/mlops/lib/python3.13/site-packages (from graphene<4->mlflow) (2.9.0.post0)\n",
      "Requirement already satisfied: zipp>=3.20 in /home/codespace/anaconda3/envs/mlops/lib/python3.13/site-packages (from importlib_metadata!=4.7.0,<9,>=3.7.0->mlflow-skinny==2.22.0->mlflow) (3.21.0)\n",
      "Requirement already satisfied: contourpy>=1.0.1 in /home/codespace/anaconda3/envs/mlops/lib/python3.13/site-packages (from matplotlib<4->mlflow) (1.3.2)\n",
      "Requirement already satisfied: cycler>=0.10 in /home/codespace/anaconda3/envs/mlops/lib/python3.13/site-packages (from matplotlib<4->mlflow) (0.12.1)\n",
      "Requirement already satisfied: fonttools>=4.22.0 in /home/codespace/anaconda3/envs/mlops/lib/python3.13/site-packages (from matplotlib<4->mlflow) (4.58.0)\n",
      "Requirement already satisfied: kiwisolver>=1.3.1 in /home/codespace/anaconda3/envs/mlops/lib/python3.13/site-packages (from matplotlib<4->mlflow) (1.4.8)\n",
      "Requirement already satisfied: pillow>=8 in /home/codespace/anaconda3/envs/mlops/lib/python3.13/site-packages (from matplotlib<4->mlflow) (11.2.1)\n",
      "Requirement already satisfied: pyparsing>=2.3.1 in /home/codespace/anaconda3/envs/mlops/lib/python3.13/site-packages (from matplotlib<4->mlflow) (3.2.3)\n",
      "Requirement already satisfied: deprecated>=1.2.6 in /home/codespace/anaconda3/envs/mlops/lib/python3.13/site-packages (from opentelemetry-api<3,>=1.9.0->mlflow-skinny==2.22.0->mlflow) (1.2.18)\n",
      "Requirement already satisfied: opentelemetry-semantic-conventions==0.54b1 in /home/codespace/anaconda3/envs/mlops/lib/python3.13/site-packages (from opentelemetry-sdk<3,>=1.9.0->mlflow-skinny==2.22.0->mlflow) (0.54b1)\n",
      "Requirement already satisfied: pytz>=2020.1 in /home/codespace/anaconda3/envs/mlops/lib/python3.13/site-packages (from pandas<3->mlflow) (2025.2)\n",
      "Requirement already satisfied: tzdata>=2022.7 in /home/codespace/anaconda3/envs/mlops/lib/python3.13/site-packages (from pandas<3->mlflow) (2025.2)\n",
      "Requirement already satisfied: annotated-types>=0.6.0 in /home/codespace/anaconda3/envs/mlops/lib/python3.13/site-packages (from pydantic<3,>=1.10.8->mlflow-skinny==2.22.0->mlflow) (0.7.0)\n",
      "Requirement already satisfied: pydantic-core==2.33.2 in /home/codespace/anaconda3/envs/mlops/lib/python3.13/site-packages (from pydantic<3,>=1.10.8->mlflow-skinny==2.22.0->mlflow) (2.33.2)\n",
      "Requirement already satisfied: typing-inspection>=0.4.0 in /home/codespace/anaconda3/envs/mlops/lib/python3.13/site-packages (from pydantic<3,>=1.10.8->mlflow-skinny==2.22.0->mlflow) (0.4.1)\n",
      "Requirement already satisfied: six>=1.5 in /home/codespace/anaconda3/envs/mlops/lib/python3.13/site-packages (from python-dateutil<3,>=2.7.0->graphene<4->mlflow) (1.17.0)\n",
      "Requirement already satisfied: charset-normalizer<4,>=2 in /home/codespace/anaconda3/envs/mlops/lib/python3.13/site-packages (from requests<3,>=2.17.3->mlflow-skinny==2.22.0->mlflow) (3.4.2)\n",
      "Requirement already satisfied: idna<4,>=2.5 in /home/codespace/anaconda3/envs/mlops/lib/python3.13/site-packages (from requests<3,>=2.17.3->mlflow-skinny==2.22.0->mlflow) (3.10)\n",
      "Requirement already satisfied: certifi>=2017.4.17 in /home/codespace/anaconda3/envs/mlops/lib/python3.13/site-packages (from requests<3,>=2.17.3->mlflow-skinny==2.22.0->mlflow) (2025.4.26)\n",
      "Requirement already satisfied: pyasn1>=0.1.3 in /home/codespace/anaconda3/envs/mlops/lib/python3.13/site-packages (from rsa<5,>=3.1.4->google-auth~=2.0->databricks-sdk<1,>=0.20.0->mlflow-skinny==2.22.0->mlflow) (0.6.1)\n",
      "Requirement already satisfied: joblib>=1.2.0 in /home/codespace/anaconda3/envs/mlops/lib/python3.13/site-packages (from scikit-learn<2->mlflow) (1.5.0)\n",
      "Requirement already satisfied: threadpoolctl>=3.1.0 in /home/codespace/anaconda3/envs/mlops/lib/python3.13/site-packages (from scikit-learn<2->mlflow) (3.6.0)\n",
      "Requirement already satisfied: greenlet>=1 in /home/codespace/anaconda3/envs/mlops/lib/python3.13/site-packages (from sqlalchemy<3,>=1.4.0->mlflow) (3.2.2)\n",
      "Requirement already satisfied: anyio<5,>=3.6.2 in /home/codespace/anaconda3/envs/mlops/lib/python3.13/site-packages (from starlette<0.47.0,>=0.40.0->fastapi<1->mlflow-skinny==2.22.0->mlflow) (4.9.0)\n",
      "Requirement already satisfied: sniffio>=1.1 in /home/codespace/anaconda3/envs/mlops/lib/python3.13/site-packages (from anyio<5,>=3.6.2->starlette<0.47.0,>=0.40.0->fastapi<1->mlflow-skinny==2.22.0->mlflow) (1.3.1)\n",
      "Requirement already satisfied: h11>=0.8 in /home/codespace/anaconda3/envs/mlops/lib/python3.13/site-packages (from uvicorn<1->mlflow-skinny==2.22.0->mlflow) (0.16.0)\n",
      "Requirement already satisfied: wrapt<2,>=1.10 in /home/codespace/anaconda3/envs/mlops/lib/python3.13/site-packages (from deprecated>=1.2.6->opentelemetry-api<3,>=1.9.0->mlflow-skinny==2.22.0->mlflow) (1.17.2)\n"
     ]
    }
   ],
   "source": [
    "!pip install mlflow"
   ]
  },
  {
   "cell_type": "code",
   "execution_count": null,
   "id": "80230fd4-700d-4af3-95c1-d113af654358",
   "metadata": {},
   "outputs": [],
   "source": [
    "import mlflow\n",
    "\n",
    "mlflo"
   ]
  },
  {
   "cell_type": "code",
   "execution_count": 7,
   "id": "d3bc0684-2b70-4d5d-b013-ee3e640b15bf",
   "metadata": {},
   "outputs": [],
   "source": [
    "import sklearn"
   ]
  },
  {
   "cell_type": "code",
   "execution_count": 8,
   "id": "090c3648-01c5-4489-8ce9-3dfcc9f9473b",
   "metadata": {},
   "outputs": [
    {
     "data": {
      "text/plain": [
       "'1.6.1'"
      ]
     },
     "execution_count": 8,
     "metadata": {},
     "output_type": "execute_result"
    }
   ],
   "source": [
    "sklearn.__version__"
   ]
  },
  {
   "cell_type": "code",
   "execution_count": 9,
   "id": "c96cfb9b-563f-480c-96fe-c1617dc17a00",
   "metadata": {},
   "outputs": [
    {
     "data": {
      "text/plain": [
       "VendorID                          int32\n",
       "tpep_pickup_datetime     datetime64[us]\n",
       "tpep_dropoff_datetime    datetime64[us]\n",
       "passenger_count                 float64\n",
       "trip_distance                   float64\n",
       "RatecodeID                      float64\n",
       "store_and_fwd_flag               object\n",
       "PULocationID                      int32\n",
       "DOLocationID                      int32\n",
       "payment_type                      int64\n",
       "fare_amount                     float64\n",
       "extra                           float64\n",
       "mta_tax                         float64\n",
       "tip_amount                      float64\n",
       "tolls_amount                    float64\n",
       "improvement_surcharge           float64\n",
       "total_amount                    float64\n",
       "congestion_surcharge            float64\n",
       "Airport_fee                     float64\n",
       "cbd_congestion_fee              float64\n",
       "dtype: object"
      ]
     },
     "execution_count": 9,
     "metadata": {},
     "output_type": "execute_result"
    }
   ],
   "source": [
    "df.dtypes"
   ]
  },
  {
   "cell_type": "code",
   "execution_count": 1,
   "id": "6f1d0ff0-6183-4255-ab73-72fe2d695a48",
   "metadata": {},
   "outputs": [
    {
     "ename": "NameError",
     "evalue": "name 'df' is not defined",
     "output_type": "error",
     "traceback": [
      "\u001b[31m---------------------------------------------------------------------------\u001b[39m",
      "\u001b[31mNameError\u001b[39m                                 Traceback (most recent call last)",
      "\u001b[36mCell\u001b[39m\u001b[36m \u001b[39m\u001b[32mIn[1]\u001b[39m\u001b[32m, line 1\u001b[39m\n\u001b[32m----> \u001b[39m\u001b[32m1\u001b[39m df[\u001b[33m'\u001b[39m\u001b[33mduration\u001b[39m\u001b[33m'\u001b[39m] = df.tpep_dropoff_datetime - df.tpep_pickup_datetime\n\u001b[32m      2\u001b[39m df.duration = df.duration.apply(\u001b[38;5;28;01mlambda\u001b[39;00m td: td.total_seconds() / \u001b[32m60\u001b[39m)\n",
      "\u001b[31mNameError\u001b[39m: name 'df' is not defined"
     ]
    }
   ],
   "source": [
    "df['duration'] = df.tpep_dropoff_datetime - df.tpep_pickup_datetime\n",
    "df.duration = df.duration.apply(lambda td: td.total_seconds() / 60)"
   ]
  },
  {
   "cell_type": "code",
   "execution_count": null,
   "id": "9e2e53a5-28f0-4aef-88ee-1c37f1b7e4e5",
   "metadata": {},
   "outputs": [],
   "source": [
    "df.columns"
   ]
  },
  {
   "cell_type": "code",
   "execution_count": null,
   "id": "8198a4b4",
   "metadata": {},
   "outputs": [],
   "source": [
    "std_dev = df['duration'].std()\n",
    "print(std_dev)"
   ]
  },
  {
   "cell_type": "code",
   "execution_count": null,
   "id": "d5f861d1",
   "metadata": {},
   "outputs": [],
   "source": [
    "import pickle\n",
    "import seaborn as sns\n",
    "import matplotlib.pyplot as plt\n",
    "\n",
    "from sklearn.feature_extraction import DictVectorizer\n",
    "from sklearn.linear_model import LinearRegression\n",
    "from sklearn.linear_model import Lasso\n",
    "from sklearn.linear_model import Ridge\n",
    "\n",
    "from sklearn.metrics import mean_squared_error\n",
    "import numpy as np"
   ]
  },
  {
   "cell_type": "code",
   "execution_count": null,
   "id": "36747ba8",
   "metadata": {},
   "outputs": [],
   "source": [
    "len(df)"
   ]
  },
  {
   "cell_type": "code",
   "execution_count": null,
   "id": "c5f5de76",
   "metadata": {},
   "outputs": [],
   "source": [
    "df = df[(df.duration >= 1) & (df.duration <= 60)]"
   ]
  },
  {
   "cell_type": "code",
   "execution_count": null,
   "id": "fb355eeb",
   "metadata": {},
   "outputs": [],
   "source": [
    "len(df)"
   ]
  },
  {
   "cell_type": "code",
   "execution_count": null,
   "id": "573c9bba",
   "metadata": {},
   "outputs": [],
   "source": [
    "frac = 3009173 / 3066766 * 100\n",
    "frac"
   ]
  },
  {
   "cell_type": "code",
   "execution_count": null,
   "id": "e3732e7a",
   "metadata": {},
   "outputs": [],
   "source": [
    "\n",
    "\n",
    "categorical = ['PULocationID', 'DOLocationID']\n",
    "numerical = ['trip_distance']\n",
    "\n",
    "df[categorical] = df[categorical].astype(str)"
   ]
  },
  {
   "cell_type": "code",
   "execution_count": null,
   "id": "3fc1e795",
   "metadata": {},
   "outputs": [],
   "source": [
    "train_dicts = df[categorical + numerical].to_dict(orient='records')\n",
    "\n",
    "dv = DictVectorizer()\n",
    "X_train = dv.fit_transform(train_dicts)\n",
    "\n",
    "target = 'duration'\n",
    "y_train = df[target].values\n",
    "\n",
    "lr = LinearRegression()\n",
    "lr.fit(X_train, y_train)\n",
    "\n",
    "y_pred = lr.predict(X_train)\n",
    "\n",
    "mse = mean_squared_error(y_train, y_pred)\n",
    "rmse = np.sqrt(mse)"
   ]
  },
  {
   "cell_type": "code",
   "execution_count": null,
   "id": "8836606a",
   "metadata": {},
   "outputs": [],
   "source": [
    "lr"
   ]
  },
  {
   "cell_type": "code",
   "execution_count": null,
   "id": "e0a03ef7",
   "metadata": {},
   "outputs": [],
   "source": [
    "train_dicts"
   ]
  },
  {
   "cell_type": "code",
   "execution_count": null,
   "id": "64c45063",
   "metadata": {},
   "outputs": [],
   "source": [
    "rmse"
   ]
  },
  {
   "cell_type": "code",
   "execution_count": null,
   "id": "94a36d08",
   "metadata": {},
   "outputs": [],
   "source": [
    "len(train_dicts)"
   ]
  },
  {
   "cell_type": "code",
   "execution_count": null,
   "id": "67cc11e4",
   "metadata": {},
   "outputs": [],
   "source": [
    "X_train"
   ]
  },
  {
   "cell_type": "code",
   "execution_count": null,
   "id": "7d46d069",
   "metadata": {},
   "outputs": [],
   "source": [
    "sns.distplot(y_pred, label='prediction')\n",
    "sns.distplot(y_train, label='actual')\n",
    "\n",
    "plt.legend()"
   ]
  },
  {
   "cell_type": "code",
   "execution_count": null,
   "id": "dfa1f5d2",
   "metadata": {},
   "outputs": [],
   "source": [
    "def read_dataframe(filename):\n",
    "    if filename.endswith('.csv'):\n",
    "        df = pd.read_csv(filename)\n",
    "\n",
    "        df.tpep_dropoff_datetime = pd.to_datetime(df.tpep_dropoff_datetime)\n",
    "        df.tpep_pickup_datetime = pd.to_datetime(df.tpep_pickup_datetime)\n",
    "    elif filename.endswith('.parquet'):\n",
    "        df = pd.read_parquet(filename)\n",
    "\n",
    "    df['duration'] = df.tpep_dropoff_datetime - df.tpep_pickup_datetime\n",
    "    df.duration = df.duration.apply(lambda td: td.total_seconds() / 60)\n",
    "\n",
    "    df = df[(df.duration >= 1) & (df.duration <= 60)]\n",
    "\n",
    "    categorical = ['PULocationID', 'DOLocationID']\n",
    "    df[categorical] = df[categorical].astype(str)\n",
    "    \n",
    "    return df"
   ]
  },
  {
   "cell_type": "code",
   "execution_count": null,
   "id": "e20f8ca1",
   "metadata": {},
   "outputs": [],
   "source": [
    "del df"
   ]
  },
  {
   "cell_type": "code",
   "execution_count": null,
   "id": "1b18b508",
   "metadata": {},
   "outputs": [],
   "source": [
    "# df_train = read_dataframe('./data/yellow_tripdata_2023-01.parquet')\n",
    "df_val = read_dataframe('./data/yellow_tripdata_2023-02.parquet')"
   ]
  },
  {
   "cell_type": "code",
   "execution_count": null,
   "id": "1c5ee0e4",
   "metadata": {},
   "outputs": [],
   "source": [
    "len(df_val)"
   ]
  },
  {
   "cell_type": "code",
   "execution_count": null,
   "id": "050c00e7",
   "metadata": {},
   "outputs": [],
   "source": [
    "val_dicts = df_val[categorical + numerical].to_dict(orient='records')\n",
    "\n",
    "X_val = dv.fit_transform(val_dicts)\n"
   ]
  },
  {
   "cell_type": "code",
   "execution_count": null,
   "id": "6383a93a",
   "metadata": {},
   "outputs": [],
   "source": [
    "X_train"
   ]
  },
  {
   "cell_type": "code",
   "execution_count": null,
   "id": "41fc3264",
   "metadata": {},
   "outputs": [],
   "source": [
    "X_val"
   ]
  },
  {
   "cell_type": "code",
   "execution_count": null,
   "id": "97e20393",
   "metadata": {},
   "outputs": [],
   "source": [
    "\n",
    "target = 'duration'\n",
    "y_val = df_val[target].values\n",
    "\n",
    "y_pred_val = lr.predict(X_val)\n",
    "\n",
    "mse = mean_squared_error(y_val, y_pred_val)\n",
    "rmse = np.sqrt(mse)\n",
    "\n",
    "rmse"
   ]
  },
  {
   "cell_type": "code",
   "execution_count": null,
   "id": "8e03327a",
   "metadata": {},
   "outputs": [],
   "source": [
    "# df_train['PU_DO'] = df_train['PULocationID'] + '_' + df_train['DOLocationID']\n",
    "df_val['PU_DO'] = df_val['PULocationID'] + '_' + df_val['DOLocationID']"
   ]
  },
  {
   "cell_type": "code",
   "execution_count": null,
   "id": "48352a3d",
   "metadata": {},
   "outputs": [],
   "source": [
    "categorical = ['PU_DO'] #'PULocationID', 'DOLocationID']\n",
    "numerical = ['trip_distance']\n",
    "\n",
    "dv = DictVectorizer()\n",
    "\n",
    "\"\"\"\n",
    "X_train, X_val -> sparse matrix로 표현\n",
    "범주형 피처 -> 원핫인코딩, 차원 폭증\n",
    "숫자형 피처 -> 그대로 사용\n",
    "\"\"\"\n",
    "# train_dicts = df_train[categorical + numerical].to_dict(orient='records')\n",
    "# X_train = dv.fit_transform(train_dicts)\n",
    "\n",
    "val_dicts = df_val[categorical + numerical].to_dict(orient='records')\n",
    "X_val = dv.fit_transform(val_dicts)"
   ]
  },
  {
   "cell_type": "code",
   "execution_count": null,
   "id": "e013b3c0",
   "metadata": {},
   "outputs": [],
   "source": [
    "X_train.toarray().shape"
   ]
  },
  {
   "cell_type": "code",
   "execution_count": null,
   "id": "a14b76e1",
   "metadata": {},
   "outputs": [],
   "source": [
    "train_dicts"
   ]
  },
  {
   "cell_type": "code",
   "execution_count": null,
   "id": "fbdb64dd",
   "metadata": {},
   "outputs": [],
   "source": [
    "target = 'duration'\n",
    "y_train = df_train[target].values\n",
    "y_val = df_val[target].values"
   ]
  },
  {
   "cell_type": "code",
   "execution_count": null,
   "id": "b93a33f1",
   "metadata": {},
   "outputs": [],
   "source": [
    "lr = LinearRegression()\n",
    "lr.fit(X_train, y_train)\n",
    "\n",
    "y_pred = lr.predict(X_val)\n",
    "\n",
    "np.sqrt(mean_squared_error(y_val, y_pred))"
   ]
  },
  {
   "cell_type": "code",
   "execution_count": null,
   "id": "86ffa824",
   "metadata": {},
   "outputs": [],
   "source": [
    "with open('models/lin_reg.bin', 'wb') as f_out:\n",
    "    pickle.dump((dv, lr), f_out)"
   ]
  },
  {
   "cell_type": "code",
   "execution_count": null,
   "id": "1e4fc3d7",
   "metadata": {},
   "outputs": [],
   "source": [
    "lr = Lasso(0.1)\n",
    "lr.fit(X_train, y_train)\n",
    "\n",
    "y_pred = lr.predict(X_val)\n",
    "\n",
    "np.sqrt(mean_squared_error(y_val, y_pred))"
   ]
  }
 ],
 "metadata": {
  "kernelspec": {
   "display_name": "Python 3 (ipykernel)",
   "language": "python",
   "name": "python3"
  },
  "language_info": {
   "codemirror_mode": {
    "name": "ipython",
    "version": 3
   },
   "file_extension": ".py",
   "mimetype": "text/x-python",
   "name": "python",
   "nbconvert_exporter": "python",
   "pygments_lexer": "ipython3",
   "version": "3.13.2"
  }
 },
 "nbformat": 4,
 "nbformat_minor": 5
}
